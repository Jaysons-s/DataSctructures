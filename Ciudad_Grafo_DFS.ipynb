{
  "nbformat": 4,
  "nbformat_minor": 0,
  "metadata": {
    "colab": {
      "provenance": [],
      "authorship_tag": "ABX9TyNXFEM4nD3Yg8R14pO+ZjoA",
      "include_colab_link": true
    },
    "kernelspec": {
      "name": "python3",
      "display_name": "Python 3"
    },
    "language_info": {
      "name": "python"
    }
  },
  "cells": [
    {
      "cell_type": "markdown",
      "metadata": {
        "id": "view-in-github",
        "colab_type": "text"
      },
      "source": [
        "<a href=\"https://colab.research.google.com/github/Jaysons-s/DataSctructures/blob/main/Ciudad_Grafo_DFS.ipynb\" target=\"_parent\"><img src=\"https://colab.research.google.com/assets/colab-badge.svg\" alt=\"Open In Colab\"/></a>"
      ]
    },
    {
      "cell_type": "code",
      "execution_count": 13,
      "metadata": {
        "colab": {
          "base_uri": "https://localhost:8080/"
        },
        "id": "ggbPvNHdz2aq",
        "outputId": "62485f02-1863-445f-8259-f9e4cbc45748"
      },
      "outputs": [
        {
          "output_type": "stream",
          "name": "stdout",
          "text": [
            "Ingresa la ciudad de inicio: Ciudad A\n",
            "Ingresa la ciudad de destino: Ciudad F\n",
            "Rutas desde Ciudad A a Ciudad F:\n",
            "Ruta 1: Ciudad A -> Ciudad B -> Ciudad E -> Ciudad F\n",
            "Ruta 2: Ciudad A -> Ciudad C -> Ciudad F\n"
          ]
        }
      ],
      "source": [
        "from graphviz import Graph  # Importa la librería Graphviz\n",
        "\n",
        "# Definimos el gráfico como un diccionario de adyacencia\n",
        "graph = {\n",
        "    'Ciudad A': ['Ciudad B', 'Ciudad C'],\n",
        "    'Ciudad B': ['Ciudad D', 'Ciudad E'],\n",
        "    'Ciudad C': ['Ciudad F'],\n",
        "    'Ciudad D': [],\n",
        "    'Ciudad E': ['Ciudad F'],\n",
        "    'Ciudad F': []\n",
        "}\n",
        "\n",
        "def dfs(graph, start, goal, path=None, all_paths=None):\n",
        "    if path is None:\n",
        "        path = []\n",
        "    if all_paths is None:\n",
        "        all_paths = []\n",
        "\n",
        "    path.append(start)\n",
        "\n",
        "    if start == goal:\n",
        "        all_paths.append(list(path))\n",
        "    else:\n",
        "        for neighbor in graph[start]:\n",
        "            if neighbor not in path:  # Evita ciclos\n",
        "                dfs(graph, neighbor, goal, path, all_paths)\n",
        "\n",
        "    path.pop()  # Retira el nodo actual del camino\n",
        "    return all_paths\n",
        "\n",
        "def generar_imagen(graph, nombre_archivo, camino=None):\n",
        "    grafico = Graph('G', format='png')  # Usa Graph para grafo no dirigido\n",
        "    grafico.attr(rankdir='LR')\n",
        "\n",
        "    for vertice in graph:\n",
        "        grafico.node(vertice)\n",
        "\n",
        "    for v1 in graph:\n",
        "        for v2 in graph[v1]:\n",
        "            # Resaltar el camino si está definido\n",
        "            if camino and v1 in camino and v2 in camino:\n",
        "                grafico.edge(v1, v2, color='red')  # Resaltar el camino en rojo\n",
        "            else:\n",
        "                grafico.edge(v1, v2)\n",
        "\n",
        "    grafico.render(nombre_archivo, cleanup=True)\n",
        "\n",
        "# Generar imagen del grafo original\n",
        "generar_imagen(graph, \"grafo\")\n",
        "\n",
        "# Solicitar al usuario que elija las ciudades\n",
        "start_city = input(\"Ingresa la ciudad de inicio: \")\n",
        "goal_city = input(\"Ingresa la ciudad de destino: \")\n",
        "\n",
        "# Validar las ciudades elegidas\n",
        "if start_city not in graph or goal_city not in graph:\n",
        "    print(\"Una o ambas ciudades no son válidas.\")\n",
        "else:\n",
        "    # Ejecutamos el DFS para encontrar las rutas\n",
        "    routes = dfs(graph, start_city, goal_city)\n",
        "\n",
        "    # Analizamos el resultado\n",
        "    if routes:\n",
        "        print(f\"Rutas desde {start_city} a {goal_city}:\")\n",
        "        for i, route in enumerate(routes):\n",
        "            print(f\"Ruta {i + 1}: \" + \" -> \".join(route))\n",
        "            # Generar imagen del grafo con el camino recorrido\n",
        "            generar_imagen(graph, f\"camino_{i + 1}\", camino=route)\n",
        "    else:\n",
        "        print(f\"No se encontró una ruta desde {start_city} a {goal_city}.\")\n"
      ]
    }
  ]
}