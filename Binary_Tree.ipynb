{
  "nbformat": 4,
  "nbformat_minor": 0,
  "metadata": {
    "colab": {
      "provenance": [],
      "authorship_tag": "ABX9TyNTBNCYPwfqNTerNlUGKyZj",
      "include_colab_link": true
    },
    "kernelspec": {
      "name": "python3",
      "display_name": "Python 3"
    },
    "language_info": {
      "name": "python"
    }
  },
  "cells": [
    {
      "cell_type": "markdown",
      "metadata": {
        "id": "view-in-github",
        "colab_type": "text"
      },
      "source": [
        "<a href=\"https://colab.research.google.com/github/Jaysons-s/DataSctructures/blob/main/Binary_Tree.ipynb\" target=\"_parent\"><img src=\"https://colab.research.google.com/assets/colab-badge.svg\" alt=\"Open In Colab\"/></a>"
      ]
    },
    {
      "cell_type": "code",
      "execution_count": null,
      "metadata": {
        "colab": {
          "base_uri": "https://localhost:8080/"
        },
        "id": "z3dO4mD1omnh",
        "outputId": "867dae2d-0ec3-4d63-891a-ef4e9cbcdb7d"
      },
      "outputs": [
        {
          "output_type": "stream",
          "name": "stdout",
          "text": [
            "Insertion Done\n",
            "Preorder Traversal: \n",
            "54  -> 34  -> 12  -> 5  -> 23  -> 46  -> \n",
            "Inorder Traversal: \n",
            "5  -> 12  -> 23  -> 34  -> 46  -> 54  -> \n",
            "Postorder Traversal: \n",
            "5  -> 23  -> 12  -> 46  -> 34  -> 54  -> \n",
            "Element to be searched:  17\n",
            "17 Not Found\n"
          ]
        }
      ],
      "source": [
        "class Node:\n",
        "   def __init__(self, data):\n",
        "     self.left = None\n",
        "     self.right = None\n",
        "     self.data = data\n",
        "\n",
        "# Insert method to create nodes\n",
        "   def insert(self, data):\n",
        "     if self.data:\n",
        "       if data < self.data:\n",
        "         if self.left is None:\n",
        "            self.left = Node(data)\n",
        "         else:\n",
        "            self.left.insert(data)\n",
        "       elif data > self.data:\n",
        "         if self.right is None:\n",
        "            self.right = Node(data)\n",
        "         else:\n",
        "            self.right.insert(data)\n",
        "       else:\n",
        "         self.data = data\n",
        "\n",
        "# search method to compare the value with nodes\n",
        "   def search(self, key):\n",
        "     if key < self.data:\n",
        "       if self.left is None:\n",
        "         return str(key)+ \" Not Found\"\n",
        "       return self.left.search(key)\n",
        "     elif key > self.data:\n",
        "       if self.right is None:\n",
        "         return str(key)+\" Not Found\"\n",
        "       return self.right.search(key)\n",
        "     else:\n",
        "       print(str(self.data) + ' is found')\n",
        "\n",
        "# Print the tree\n",
        "   def Inorder(self):\n",
        "     if self.left:\n",
        "       self.left.Inorder()\n",
        "     print(self.data , \" ->\", end = \" \")\n",
        "     if self.right:\n",
        "       self.right.Inorder()\n",
        "\n",
        "# Print the tree\n",
        "   def Preorder(self):\n",
        "     print(self.data, \" ->\", end = \" \")\n",
        "     if self.left:\n",
        "       self.left.Preorder()\n",
        "     if self.right:\n",
        "       self.right.Preorder()\n",
        "\n",
        "# Print the tree\n",
        "   def Postorder(self):\n",
        "     if self.left:\n",
        "       self.left.Postorder()\n",
        "     if self.right:\n",
        "       self.right.Postorder()\n",
        "     print(self.data, \" ->\", end = \" \")\n",
        "\n",
        "root = Node(54)\n",
        "root.insert(34)\n",
        "root.insert(46)\n",
        "root.insert(12)\n",
        "root.insert(23)\n",
        "root.insert(5)\n",
        "print(\"Insertion Done\")\n",
        "print(\"Preorder Traversal: \")\n",
        "root.Preorder()\n",
        "print(\"\\nInorder Traversal: \")\n",
        "root.Inorder()\n",
        "print(\"\\nPostorder Traversal: \")\n",
        "root.Postorder()\n",
        "ele = 17\n",
        "print(\"\\nElement to be searched: \", ele)\n",
        "print(root.search(ele))"
      ]
    }
  ]
}