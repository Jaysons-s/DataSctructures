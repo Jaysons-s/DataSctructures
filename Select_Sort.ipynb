{
  "nbformat": 4,
  "nbformat_minor": 0,
  "metadata": {
    "colab": {
      "provenance": [],
      "authorship_tag": "ABX9TyNEPMyevD+yDr9nt2A0sFEA",
      "include_colab_link": true
    },
    "kernelspec": {
      "name": "python3",
      "display_name": "Python 3"
    },
    "language_info": {
      "name": "python"
    }
  },
  "cells": [
    {
      "cell_type": "markdown",
      "metadata": {
        "id": "view-in-github",
        "colab_type": "text"
      },
      "source": [
        "<a href=\"https://colab.research.google.com/github/Jaysons-s/DataSctructures/blob/main/Select_Sort.ipynb\" target=\"_parent\"><img src=\"https://colab.research.google.com/assets/colab-badge.svg\" alt=\"Open In Colab\"/></a>"
      ]
    },
    {
      "cell_type": "code",
      "execution_count": 4,
      "metadata": {
        "colab": {
          "base_uri": "https://localhost:8080/"
        },
        "id": "Ux-R9fYQvACT",
        "outputId": "07a8f3f9-1617-43e4-f667-03fb1eea3998"
      },
      "outputs": [
        {
          "output_type": "stream",
          "name": "stdout",
          "text": [
            "¿Cuántos números aleatorios deseas generar? 10\n",
            "\n",
            "Arreglo original: [77, 86, 96, 90, 56, 95, 3, 51, 5, 86]\n",
            "Iteración 1: [3, 86, 96, 90, 56, 95, 77, 51, 5, 86]\n",
            "Iteración 2: [3, 5, 96, 90, 56, 95, 77, 51, 86, 86]\n",
            "Iteración 3: [3, 5, 51, 90, 56, 95, 77, 96, 86, 86]\n",
            "Iteración 4: [3, 5, 51, 56, 90, 95, 77, 96, 86, 86]\n",
            "Iteración 5: [3, 5, 51, 56, 77, 95, 90, 96, 86, 86]\n",
            "Iteración 6: [3, 5, 51, 56, 77, 86, 90, 96, 95, 86]\n",
            "Iteración 7: [3, 5, 51, 56, 77, 86, 86, 96, 95, 90]\n",
            "Iteración 8: [3, 5, 51, 56, 77, 86, 86, 90, 95, 96]\n",
            "Iteración 9: [3, 5, 51, 56, 77, 86, 86, 90, 95, 96]\n",
            "Iteración 10: [3, 5, 51, 56, 77, 86, 86, 90, 95, 96]\n",
            "\n",
            "Arreglo final ordenado: [3, 5, 51, 56, 77, 86, 86, 90, 95, 96]\n"
          ]
        }
      ],
      "source": [
        "import random\n",
        "\n",
        "def selection_sort(arr):\n",
        "    n = len(arr)\n",
        "    for i in range(n):\n",
        "        # Encuentra el índice del elemento más pequeño\n",
        "        min_idx = i\n",
        "        for j in range(i + 1, n):\n",
        "            if arr[j] < arr[min_idx]:\n",
        "                min_idx = j\n",
        "        # Intercambia el elemento actual con el mínimo encontrado\n",
        "        arr[i], arr[min_idx] = arr[min_idx], arr[i]\n",
        "\n",
        "        # Muestra el arreglo después de cada iteración\n",
        "        print(f\"Iteración {i + 1}: {arr}\")\n",
        "\n",
        "# Solicita la cantidad de números\n",
        "cantidad = int(input(\"¿Cuántos números aleatorios deseas generar? \"))\n",
        "\n",
        "# Genera una lista de números aleatorios\n",
        "arr = [random.randint(1, 100) for _ in range(cantidad)]\n",
        "\n",
        "# Muestra el arreglo antes de ordenar\n",
        "print(\"\\nArreglo original:\", arr)\n",
        "\n",
        "# Ordena el arreglo mostrando el proceso\n",
        "selection_sort(arr)\n",
        "\n",
        "# Muestra el arreglo final ordenado\n",
        "print(\"\\nArreglo final ordenado:\", arr)\n"
      ]
    }
  ]
}