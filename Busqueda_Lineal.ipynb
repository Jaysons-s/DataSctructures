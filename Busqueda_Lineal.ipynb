{
  "nbformat": 4,
  "nbformat_minor": 0,
  "metadata": {
    "colab": {
      "provenance": [],
      "authorship_tag": "ABX9TyMDvx2ZJG9JudOqJgaRiqjx",
      "include_colab_link": true
    },
    "kernelspec": {
      "name": "python3",
      "display_name": "Python 3"
    },
    "language_info": {
      "name": "python"
    }
  },
  "cells": [
    {
      "cell_type": "markdown",
      "metadata": {
        "id": "view-in-github",
        "colab_type": "text"
      },
      "source": [
        "<a href=\"https://colab.research.google.com/github/Jaysons-s/DataSctructures/blob/main/Busqueda_Lineal.ipynb\" target=\"_parent\"><img src=\"https://colab.research.google.com/assets/colab-badge.svg\" alt=\"Open In Colab\"/></a>"
      ]
    },
    {
      "cell_type": "code",
      "execution_count": 1,
      "metadata": {
        "colab": {
          "base_uri": "https://localhost:8080/"
        },
        "id": "1EgwxYnvtgb1",
        "outputId": "524da997-718a-4cb8-fde2-f0fd10792313"
      },
      "outputs": [
        {
          "output_type": "stream",
          "name": "stdout",
          "text": [
            "Ingresa una lista de números separados por espacios: 12 5 4 6 9 7 8 9  1 3 1 5  55 1 6 51 3 1 651 3203 5 531 \n",
            "Ingresa el número que deseas buscar: 51\n",
            "El número 51 fue encontrado en la lista.\n"
          ]
        }
      ],
      "source": [
        "def busqueda_lineal(lista, objetivo):\n",
        "    for num in lista:\n",
        "        if num == objetivo:\n",
        "            return True\n",
        "    return False\n",
        "\n",
        "# Solicitar al usuario los dígitos\n",
        "entrada = input(\"Ingresa una lista de números separados por espacios: \")\n",
        "lista_numeros = [int(num) for num in entrada.split()]\n",
        "\n",
        "# Solicitar el número a buscar\n",
        "objetivo = int(input(\"Ingresa el número que deseas buscar: \"))\n",
        "\n",
        "# Realizar la búsqueda\n",
        "encontrado = busqueda_lineal(lista_numeros, objetivo)\n",
        "\n",
        "# Mostrar resultados\n",
        "if encontrado:\n",
        "    print(f\"El número {objetivo} fue encontrado en la lista.\")\n",
        "else:\n",
        "    print(f\"El número {objetivo} no se encontró en la lista.\")\n"
      ]
    }
  ]
}