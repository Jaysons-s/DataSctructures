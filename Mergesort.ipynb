{
  "nbformat": 4,
  "nbformat_minor": 0,
  "metadata": {
    "colab": {
      "provenance": [],
      "authorship_tag": "ABX9TyMEN4DVxFMi0jUhCb46/eHB",
      "include_colab_link": true
    },
    "kernelspec": {
      "name": "python3",
      "display_name": "Python 3"
    },
    "language_info": {
      "name": "python"
    }
  },
  "cells": [
    {
      "cell_type": "markdown",
      "metadata": {
        "id": "view-in-github",
        "colab_type": "text"
      },
      "source": [
        "<a href=\"https://colab.research.google.com/github/Jaysons-s/DataSctructures/blob/main/Mergesort.ipynb\" target=\"_parent\"><img src=\"https://colab.research.google.com/assets/colab-badge.svg\" alt=\"Open In Colab\"/></a>"
      ]
    },
    {
      "cell_type": "code",
      "execution_count": 3,
      "metadata": {
        "colab": {
          "base_uri": "https://localhost:8080/"
        },
        "id": "MSSbnpRYjCkI",
        "outputId": "37bb7b48-3410-4ea7-cc0a-7c127cce7401"
      },
      "outputs": [
        {
          "output_type": "stream",
          "name": "stdout",
          "text": [
            "¿Cuántos números aleatorios quieres generar? 10\n",
            "\n",
            "Primera fila (números aleatorios):\n",
            "[56, 10, 66, 21, 56, 43, 68, 35, 20, 24]\n",
            "\n",
            "Segunda fila (dividida en dos partes):\n",
            "Parte 1: [56, 10, 66, 21, 56]\n",
            "Parte 2: [43, 68, 35, 20, 24]\n",
            "\n",
            "Tercera fila (ordenada):\n",
            "[10, 20, 21, 24, 35, 43, 56, 56, 66, 68]\n"
          ]
        }
      ],
      "source": [
        "import random\n",
        "\n",
        "def burbuja(lista):\n",
        "    n = len(lista)\n",
        "    for i in range(n):\n",
        "        for j in range(0, n - i - 1):\n",
        "            if lista[j] > lista[j + 1]:\n",
        "                lista[j], lista[j + 1] = lista[j + 1], lista[j]\n",
        "    return lista\n",
        "\n",
        "# Preguntar al usuario cuántos números generar\n",
        "cantidad = int(input(\"¿Cuántos números aleatorios quieres generar? \"))\n",
        "\n",
        "# Generar la primera fila de números aleatorios\n",
        "fila_1 = [random.randint(1, 100) for _ in range(cantidad)]\n",
        "\n",
        "# Dividir en dos partes (segunda fila)\n",
        "mitad = len(fila_1) // 2\n",
        "fila_2_1 = fila_1[:mitad]\n",
        "fila_2_2 = fila_1[mitad:]\n",
        "\n",
        "# Ordenar las partes con burbuja (tercera fila)\n",
        "fila_3 = burbuja(fila_2_1 + fila_2_2)\n",
        "\n",
        "# Imprimir las filas\n",
        "print(\"\\nPrimera fila (números aleatorios):\")\n",
        "print(fila_1)\n",
        "print(\"\\nSegunda fila (dividida en dos partes):\")\n",
        "print(\"Parte 1:\", fila_2_1)\n",
        "print(\"Parte 2:\", fila_2_2)\n",
        "print(\"\\nTercera fila (ordenada):\")\n",
        "print(fila_3)\n"
      ]
    }
  ]
}