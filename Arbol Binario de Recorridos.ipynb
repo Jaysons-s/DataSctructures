{
  "nbformat": 4,
  "nbformat_minor": 0,
  "metadata": {
    "colab": {
      "provenance": [],
      "authorship_tag": "ABX9TyMgbLSeufcBmhUKJJY7fGrB",
      "include_colab_link": true
    },
    "kernelspec": {
      "name": "python3",
      "display_name": "Python 3"
    },
    "language_info": {
      "name": "python"
    }
  },
  "cells": [
    {
      "cell_type": "markdown",
      "metadata": {
        "id": "view-in-github",
        "colab_type": "text"
      },
      "source": [
        "<a href=\"https://colab.research.google.com/github/Jaysons-s/DataSctructures/blob/main/Arbol%20Binario%20de%20Recorridos.ipynb\" target=\"_parent\"><img src=\"https://colab.research.google.com/assets/colab-badge.svg\" alt=\"Open In Colab\"/></a>"
      ]
    },
    {
      "cell_type": "code",
      "execution_count": 1,
      "metadata": {
        "colab": {
          "base_uri": "https://localhost:8080/",
          "height": 520
        },
        "id": "ymOqFTgl35om",
        "outputId": "7d45a37f-65f4-489b-d258-0cbe501ef5b1"
      },
      "outputs": [
        {
          "output_type": "stream",
          "name": "stdout",
          "text": [
            "Reading package lists... Done\n",
            "Building dependency tree... Done\n",
            "Reading state information... Done\n",
            "graphviz is already the newest version (2.42.2-6ubuntu0.1).\n",
            "0 upgraded, 0 newly installed, 0 to remove and 49 not upgraded.\n",
            "Requirement already satisfied: graphviz in /usr/local/lib/python3.10/dist-packages (0.20.3)\n",
            "Inorder: [30, 40, 50, 60, 70, 80, 90]\n",
            "Preorder: [50, 30, 40, 70, 60, 90, 80]\n",
            "Postorder: [40, 30, 60, 80, 90, 70, 50]\n"
          ]
        },
        {
          "output_type": "display_data",
          "data": {
            "image/png": "[encoded data removed]",
            "text/plain": [
              "<IPython.core.display.Image object>"
            ]
          },
          "metadata": {}
        }
      ],
      "source": [
        "!apt-get install graphviz -y\n",
        "!pip install graphviz\n",
        "\n",
        "import graphviz\n",
        "\n",
        "# Clase para representar un nodo del arbol binario\n",
        "class Nodo:\n",
        "    def __init__(self, clave):\n",
        "        self.izquierdo = None\n",
        "        self.derecho = None\n",
        "        self.clave = clave\n",
        "\n",
        "# Clase para el arbol Binario\n",
        "class ArbolBinario:\n",
        "    def __init__(self):\n",
        "        self.raiz = None\n",
        "\n",
        "    def insertar(self, clave):\n",
        "        if self.raiz is None:\n",
        "            self.raiz = Nodo(clave)\n",
        "        else:\n",
        "            self._insertar(self.raiz, clave)\n",
        "\n",
        "    def _insertar(self, actual, clave):\n",
        "        if clave < actual.clave:\n",
        "            if actual.izquierdo is None:\n",
        "                actual.izquierdo = Nodo(clave)\n",
        "            else:\n",
        "                self._insertar(actual.izquierdo, clave)\n",
        "        else:\n",
        "            if actual.derecho is None:\n",
        "                actual.derecho = Nodo(clave)\n",
        "            else:\n",
        "                self._insertar(actual.derecho, clave)\n",
        "\n",
        "    # Recorrido en Inorder\n",
        "    def inorder(self):\n",
        "        return self._inorder(self.raiz)\n",
        "\n",
        "    def _inorder(self, nodo):\n",
        "        return self._inorder(nodo.izquierdo) + [nodo.clave] + self._inorder(nodo.derecho) if nodo else []\n",
        "\n",
        "    # Recorrido en Preorder\n",
        "    def preorder(self):\n",
        "        return self._preorder(self.raiz)\n",
        "\n",
        "    def _preorder(self, nodo):\n",
        "        return [nodo.clave] + self._preorder(nodo.izquierdo) + self._preorder(nodo.derecho) if nodo else []\n",
        "\n",
        "    # Recorrido en postorde Postorder\n",
        "    def postorder(self):\n",
        "        return self._postorder(self.raiz)\n",
        "\n",
        "    def _postorder(self, nodo):\n",
        "        return self._postorder(nodo.izquierdo) + self._postorder(nodo.derecho) + [nodo.clave] if nodo else []\n",
        "\n",
        "    # Metodo para generar una representación grafica del arbol\n",
        "    def generar_grafico(self):\n",
        "        dot = graphviz.Digraph()\n",
        "        if self.raiz:\n",
        "            self._agregar_nodo(dot, self.raiz)\n",
        "        return dot\n",
        "\n",
        "    def _agregar_nodo(self, dot, nodo):\n",
        "        dot.node(str(nodo.clave), str(nodo.clave))\n",
        "        if nodo.izquierdo:\n",
        "            dot.edge(str(nodo.clave), str(nodo.izquierdo.clave))\n",
        "            self._agregar_nodo(dot, nodo.izquierdo)\n",
        "        if nodo.derecho:\n",
        "            dot.edge(str(nodo.clave), str(nodo.derecho.clave))\n",
        "            self._agregar_nodo(dot, nodo.derecho)\n",
        "\n",
        "# Ejemplo de uso\n",
        "if __name__ == \"__main__\":\n",
        "    arbol = ArbolBinario()\n",
        "    arbol.insertar(50)\n",
        "    arbol.insertar(30)\n",
        "    arbol.insertar(70)\n",
        "    arbol.insertar(90)\n",
        "    arbol.insertar(40)\n",
        "    arbol.insertar(60)\n",
        "    arbol.insertar(80)\n",
        "\n",
        "    #recorridos\n",
        "    print(\"Inorder:\", arbol.inorder())        # [90, 30, 40, 50, 60, 70, 80]\n",
        "    print(\"Preorder:\", arbol.preorder())      # [50, 30, 20, 40, 70, 60, 80]\n",
        "    print(\"Postorder:\", arbol.postorder())    # [20, 40, 30, 60, 80, 70, 50]\n",
        "\n",
        "    # Generar el grafico y mostrarlo\n",
        "    dot = arbol.generar_grafico()\n",
        "    dot.render(\"arbol_binario\", format=\"png\", cleanup=False)\n",
        "\n",
        "    from IPython.display import Image\n",
        "    display(Image(filename='arbol_binario.png'))\n"
      ]
    }
  ]
}