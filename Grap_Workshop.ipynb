{
  "nbformat": 4,
  "nbformat_minor": 0,
  "metadata": {
    "colab": {
      "provenance": [],
      "authorship_tag": "ABX9TyN6xdTSducRvqm4HtGr8H32",
      "include_colab_link": true
    },
    "kernelspec": {
      "name": "python3",
      "display_name": "Python 3"
    },
    "language_info": {
      "name": "python"
    }
  },
  "cells": [
    {
      "cell_type": "markdown",
      "metadata": {
        "id": "view-in-github",
        "colab_type": "text"
      },
      "source": [
        "<a href=\"https://colab.research.google.com/github/Jaysons-s/DataSctructures/blob/main/Grap_Workshop.ipynb\" target=\"_parent\"><img src=\"https://colab.research.google.com/assets/colab-badge.svg\" alt=\"Open In Colab\"/></a>"
      ]
    },
    {
      "cell_type": "code",
      "execution_count": 13,
      "metadata": {
        "colab": {
          "base_uri": "https://localhost:8080/"
        },
        "id": "QDcEPcQHgjj_",
        "outputId": "1b8157d5-890a-4b5b-871c-a2669ee9aea4"
      },
      "outputs": [
        {
          "output_type": "stream",
          "name": "stdout",
          "text": [
            "Lista de adyacencia:\n",
            "A: ['B', 'C']\n",
            "B: ['A', 'D']\n",
            "C: ['A', 'D', 'E']\n",
            "D: ['B', 'C', 'F']\n",
            "E: ['C', 'G']\n",
            "F: ['D']\n",
            "G: ['E']\n",
            "Matriz de adyacencia:\n",
            "  A B C D E F G\n",
            "A 0 1 1 0 0 0 0\n",
            "B 1 0 0 1 0 0 0\n",
            "C 1 0 0 1 1 0 0\n",
            "D 0 1 1 0 0 1 0\n",
            "E 0 0 1 0 0 0 1\n",
            "F 0 0 0 1 0 0 0\n",
            "G 0 0 0 0 1 0 0\n"
          ]
        }
      ],
      "source": [
        "from graphviz import Graph\n",
        "\n",
        "class Grafo:\n",
        "    def __init__(self):\n",
        "        self.vertices = {}\n",
        "\n",
        "    def añadir_vertice(self, vertice):\n",
        "        if vertice not in self.vertices:\n",
        "            self.vertices[vertice] = []\n",
        "\n",
        "    def remover_vertice(self, vertice):\n",
        "        if vertice in self.vertices:\n",
        "            del self.vertices[vertice]\n",
        "            for v in self.vertices:\n",
        "                if vertice in self.vertices[v]:\n",
        "                    self.vertices[v].remove(vertice)\n",
        "\n",
        "    def añadir_arista(self, v1, v2):\n",
        "        if v1 in self.vertices and v2 in self.vertices:\n",
        "            self.vertices[v1].append(v2)\n",
        "            self.vertices[v2].append(v1)\n",
        "\n",
        "    def remover_arista(self, v1, v2):\n",
        "        if v1 in self.vertices and v2 in self.vertices:\n",
        "            if v2 in self.vertices[v1]:\n",
        "                self.vertices[v1].remove(v2)\n",
        "            if v1 in self.vertices[v2]:\n",
        "                self.vertices[v2].remove(v1)\n",
        "\n",
        "    def imprimir_lista_adyacencia(self):\n",
        "        for vertice, adyacentes in self.vertices.items():\n",
        "            print(f\"{vertice}: {adyacentes}\")\n",
        "\n",
        "    def imprimir_matriz_adyacencia(self):\n",
        "        vertices = list(self.vertices.keys())\n",
        "        n = len(vertices)\n",
        "        matriz = [[0] * n for _ in range(n)]\n",
        "\n",
        "        for i in range(n):\n",
        "            for j in range(n):\n",
        "                if vertices[j] in self.vertices[vertices[i]]:\n",
        "                    matriz[i][j] = 1\n",
        "\n",
        "        print(\"Matriz de adyacencia:\")\n",
        "        print(\"  \" + \" \".join(vertices))\n",
        "        for i in range(n):\n",
        "            print(vertices[i] + \" \" + \" \".join(map(str, matriz[i])))\n",
        "\n",
        "    def generar_imagen(self, nombre_archivo):\n",
        "        grafico = Graph('G')\n",
        "\n",
        "        for vertice in self.vertices:\n",
        "            grafico.node(vertice)\n",
        "\n",
        "        for v1 in self.vertices:\n",
        "            for v2 in self.vertices[v1]:\n",
        "                grafico.edge(v1, v2)\n",
        "\n",
        "        grafico.render(nombre_archivo, format='png', cleanup=True)\n",
        "\n",
        "# Ejemplo de uso\n",
        "grafo = Grafo()\n",
        "grafo.añadir_vertice(\"A\")\n",
        "grafo.añadir_vertice(\"B\")\n",
        "grafo.añadir_vertice(\"C\")\n",
        "grafo.añadir_vertice(\"D\")\n",
        "grafo.añadir_vertice(\"E\")\n",
        "grafo.añadir_vertice(\"F\")\n",
        "grafo.añadir_vertice(\"G\")\n",
        "\n",
        "# Conectar los vértices con aristas\n",
        "grafo.añadir_arista(\"A\", \"B\")\n",
        "grafo.añadir_arista(\"A\", \"C\")\n",
        "grafo.añadir_arista(\"B\", \"D\")\n",
        "grafo.añadir_arista(\"C\", \"D\")\n",
        "grafo.añadir_arista(\"C\", \"E\")\n",
        "grafo.añadir_arista(\"D\", \"F\")\n",
        "grafo.añadir_arista(\"E\", \"G\")\n",
        "\n",
        "print(\"Lista de adyacencia:\")\n",
        "grafo.imprimir_lista_adyacencia()\n",
        "\n",
        "grafo.imprimir_matriz_adyacencia()\n",
        "\n",
        "# Generar imagen del grafo\n",
        "grafo.generar_imagen('grafo')\n"
      ]
    }
  ]
}