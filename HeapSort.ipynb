{
  "nbformat": 4,
  "nbformat_minor": 0,
  "metadata": {
    "colab": {
      "provenance": [],
      "authorship_tag": "ABX9TyPGi90fx/JnAfOOP04Q/qyE",
      "include_colab_link": true
    },
    "kernelspec": {
      "name": "python3",
      "display_name": "Python 3"
    },
    "language_info": {
      "name": "python"
    }
  },
  "cells": [
    {
      "cell_type": "markdown",
      "metadata": {
        "id": "view-in-github",
        "colab_type": "text"
      },
      "source": [
        "<a href=\"https://colab.research.google.com/github/Jaysons-s/DataSctructures/blob/main/HeapSort.ipynb\" target=\"_parent\"><img src=\"https://colab.research.google.com/assets/colab-badge.svg\" alt=\"Open In Colab\"/></a>"
      ]
    },
    {
      "cell_type": "code",
      "execution_count": null,
      "metadata": {
        "colab": {
          "base_uri": "https://localhost:8080/"
        },
        "id": "LtPFnorm6vOf",
        "outputId": "c2b593ba-4c22-41d4-980b-f29106122cb1"
      },
      "outputs": [
        {
          "output_type": "stream",
          "name": "stdout",
          "text": [
            "Introduce la cantidad de números a ordenar: 10\n",
            "¿Quieres usar un max-heap o min-heap? (max/min): min\n",
            "\n",
            "Lista original: [91, 30, 96, 6, 70, 44, 42, 46, 34, 96]\n",
            "\n",
            "Construyendo el min-heap:\n",
            "Iteración 1: Construcción del heap -> [91, 30, 42, 6, 70, 44, 96, 46, 34, 96]\n",
            "Iteración 2: Construcción del heap -> [91, 6, 42, 30, 70, 44, 96, 46, 34, 96]\n",
            "Iteración 3: Construcción del heap -> [6, 91, 42, 30, 70, 44, 96, 46, 34, 96]\n",
            "\n",
            "Iniciando la extracción de elementos:\n",
            "Iteración 4: Intercambiando 96 con 6 -> [96, 91, 42, 30, 70, 44, 96, 46, 34, 6]\n",
            "Iteración 4: Ajuste del heap -> [42, 91, 96, 30, 70, 44, 96, 46, 34, 6]\n",
            "Iteración 5: Intercambiando 34 con 42 -> [34, 91, 96, 30, 70, 44, 96, 46, 42, 6]\n",
            "Iteración 6: Intercambiando 46 con 34 -> [46, 91, 96, 30, 70, 44, 96, 34, 42, 6]\n",
            "Iteración 7: Intercambiando 96 con 46 -> [96, 91, 96, 30, 70, 44, 46, 34, 42, 6]\n",
            "Iteración 7: Ajuste del heap -> [91, 96, 96, 30, 70, 44, 46, 34, 42, 6]\n",
            "Iteración 8: Intercambiando 44 con 91 -> [44, 96, 96, 30, 70, 91, 46, 34, 42, 6]\n",
            "Iteración 9: Intercambiando 70 con 44 -> [70, 96, 96, 30, 44, 91, 46, 34, 42, 6]\n",
            "Iteración 10: Intercambiando 30 con 70 -> [30, 96, 96, 70, 44, 91, 46, 34, 42, 6]\n",
            "Iteración 11: Intercambiando 96 con 30 -> [96, 96, 30, 70, 44, 91, 46, 34, 42, 6]\n",
            "Iteración 12: Intercambiando 96 con 96 -> [96, 96, 30, 70, 44, 91, 46, 34, 42, 6]\n",
            "\n",
            "Lista ordenada (min-heap): [96, 96, 30, 70, 44, 91, 46, 34, 42, 6]\n"
          ]
        }
      ],
      "source": [
        "import random\n",
        "\n",
        "# Función para hacer heapify (reajustar el heap)\n",
        "def heapify(arr, n, i, heap_type='max'):\n",
        "    largest = i\n",
        "    left = 2 * i + 1  # Izquierda\n",
        "    right = 2 * i + 2  # Derecha\n",
        "\n",
        "    # Si usamos max-heap\n",
        "    if heap_type == 'max':\n",
        "        if left < n and arr[left] > arr[largest]:\n",
        "            largest = left\n",
        "        if right < n and arr[right] > arr[largest]:\n",
        "            largest = right\n",
        "    # Si usamos min-heap\n",
        "    elif heap_type == 'min':\n",
        "        if left < n and arr[left] < arr[largest]:\n",
        "            largest = left\n",
        "        if right < n and arr[right] < arr[largest]:\n",
        "            largest = right\n",
        "\n",
        "    # Si el más grande no es la raíz\n",
        "    if largest != i:\n",
        "        arr[i], arr[largest] = arr[largest], arr[i]  # Intercambiar\n",
        "        return True  # Indicamos que se realizó un intercambio\n",
        "    return False\n",
        "\n",
        "# Función principal para realizar el HeapSort\n",
        "def heapSort(arr, heap_type='max'):\n",
        "    n = len(arr)\n",
        "    iteration = 1\n",
        "\n",
        "    # Construir el heap (max-heap o min-heap)\n",
        "    print(f\"\\nConstruyendo el {heap_type}-heap:\")\n",
        "    for i in range(n // 2 - 1, -1, -1):\n",
        "        if heapify(arr, n, i, heap_type):\n",
        "            print(f\"Iteración {iteration}: Construcción del heap -> {arr}\")\n",
        "            iteration += 1\n",
        "\n",
        "    # Extraer elementos del heap uno por uno\n",
        "    print(\"\\nIniciando la extracción de elementos:\")\n",
        "    for i in range(n - 1, 0, -1):\n",
        "        arr[i], arr[0] = arr[0], arr[i]  # Intercambiar\n",
        "        print(f\"Iteración {iteration}: Intercambiando {arr[0]} con {arr[i]} -> {arr}\")\n",
        "        if heapify(arr, i, 0, heap_type):\n",
        "            print(f\"Iteración {iteration}: Ajuste del heap -> {arr}\")\n",
        "        iteration += 1\n",
        "\n",
        "# Función para pedir la cantidad de números al usuario y crear una lista aleatoria\n",
        "def main():\n",
        "    # Pedir al usuario el tamaño de la lista\n",
        "    n = int(input(\"Introduce la cantidad de números a ordenar: \"))\n",
        "\n",
        "    # Pedir al usuario si quiere un max-heap o min-heap\n",
        "    heap_type = input(\"¿Quieres usar un max-heap o min-heap? (max/min): \").lower()\n",
        "    while heap_type not in ['max', 'min']:\n",
        "        heap_type = input(\"Por favor, ingresa 'max' para Max-Heap o 'min' para Min-Heap: \").lower()\n",
        "\n",
        "    # Generar una lista de números aleatorios\n",
        "    arr = [random.randint(1, 100) for _ in range(n)]\n",
        "    print(f\"\\nLista original: {arr}\")\n",
        "\n",
        "    # Llamar a la función heapSort para ordenar la lista\n",
        "    heapSort(arr, heap_type)\n",
        "\n",
        "    print(f\"\\nLista ordenada ({heap_type}-heap): {arr}\")\n",
        "\n",
        "# Ejecutar el programa\n",
        "if __name__ == \"__main__\":\n",
        "    main()\n"
      ]
    }
  ]
}