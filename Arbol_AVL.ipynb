{
  "nbformat": 4,
  "nbformat_minor": 0,
  "metadata": {
    "colab": {
      "provenance": [],
      "authorship_tag": "ABX9TyM6hzn2Tmuvx7lilD5YBK02",
      "include_colab_link": true
    },
    "kernelspec": {
      "name": "python3",
      "display_name": "Python 3"
    },
    "language_info": {
      "name": "python"
    }
  },
  "cells": [
    {
      "cell_type": "markdown",
      "metadata": {
        "id": "view-in-github",
        "colab_type": "text"
      },
      "source": [
        "<a href=\"https://colab.research.google.com/github/Jaysons-s/DataSctructures/blob/main/Arbol_AVL.ipynb\" target=\"_parent\"><img src=\"https://colab.research.google.com/assets/colab-badge.svg\" alt=\"Open In Colab\"/></a>"
      ]
    },
    {
      "cell_type": "code",
      "execution_count": 7,
      "metadata": {
        "colab": {
          "base_uri": "https://localhost:8080/",
          "height": 468
        },
        "id": "eoeh68gjiJm_",
        "outputId": "8efd8678-4008-4d42-cbc3-1246588c1465"
      },
      "outputs": [
        {
          "output_type": "stream",
          "name": "stdout",
          "text": [
            "Reading package lists... Done\n",
            "Building dependency tree... Done\n",
            "Reading state information... Done\n",
            "graphviz is already the newest version (2.42.2-6ubuntu0.1).\n",
            "0 upgraded, 0 newly installed, 0 to remove and 49 not upgraded.\n",
            "Requirement already satisfied: graphviz in /usr/local/lib/python3.10/dist-packages (0.20.3)\n"
          ]
        },
        {
          "output_type": "display_data",
          "data": {
            "image/png": "[encoded data removed]",
            "text/plain": [
              "<IPython.core.display.Image object>"
            ]
          },
          "metadata": {}
        }
      ],
      "source": [
        "\n",
        "!apt-get install graphviz -y\n",
        "!pip install graphviz\n",
        "\n",
        "import graphviz\n",
        "\n",
        "class Node:\n",
        "    def __init__(self, key):\n",
        "        self.left = None\n",
        "        self.right = None\n",
        "        self.key = key\n",
        "        self.height = 1\n",
        "\n",
        "class AVLTree:\n",
        "    def insert(self, root, key):\n",
        "        if not root:\n",
        "            return Node(key)\n",
        "        elif key < root.key:\n",
        "            root.left = self.insert(root.left, key)\n",
        "        else:\n",
        "            root.right = self.insert(root.right, key)\n",
        "\n",
        "        root.height = 1 + max(self.getHeight(root.left), self.getHeight(root.right))\n",
        "        balance = self.getBalance(root)\n",
        "\n",
        "        # Balance the tree\n",
        "        if balance > 1 and key < root.left.key:\n",
        "            return self.rightRotate(root)\n",
        "        if balance < -1 and key > root.right.key:\n",
        "            return self.leftRotate(root)\n",
        "        if balance > 1 and key > root.left.key:\n",
        "            root.left = self.leftRotate(root.left)\n",
        "            return self.rightRotate(root)\n",
        "        if balance < -1 and key < root.right.key:\n",
        "            root.right = self.rightRotate(root.right)\n",
        "            return self.leftRotate(root)\n",
        "\n",
        "        return root\n",
        "\n",
        "    def leftRotate(self, z):\n",
        "        y = z.right\n",
        "        T2 = y.left\n",
        "        y.left = z\n",
        "        z.right = T2\n",
        "        z.height = 1 + max(self.getHeight(z.left), self.getHeight(z.right))\n",
        "        y.height = 1 + max(self.getHeight(y.left), self.getHeight(y.right))\n",
        "        return y\n",
        "\n",
        "    def rightRotate(self, z):\n",
        "        y = z.left\n",
        "        T3 = y.right\n",
        "        y.right = z\n",
        "        z.left = T3\n",
        "        z.height = 1 + max(self.getHeight(z.left), self.getHeight(z.right))\n",
        "        y.height = 1 + max(self.getHeight(y.left), self.getHeight(y.right))\n",
        "        return y\n",
        "\n",
        "    def getHeight(self, root):\n",
        "        return root.height if root else 0\n",
        "\n",
        "    def getBalance(self, root):\n",
        "        return self.getHeight(root.left) - self.getHeight(root.right) if root else 0\n",
        "\n",
        "    def generate_graph(self, node, dot=None):\n",
        "        if dot is None:\n",
        "            dot = graphviz.Digraph()\n",
        "            dot.node(str(node.key), str(node.key))\n",
        "\n",
        "        if node.left:\n",
        "            dot.node(str(node.left.key), str(node.left.key))\n",
        "            dot.edge(str(node.key), str(node.left.key))\n",
        "            self.generate_graph(node.left, dot)\n",
        "\n",
        "        if node.right:\n",
        "            dot.node(str(node.right.key), str(node.right.key))\n",
        "            dot.edge(str(node.key), str(node.right.key))\n",
        "            self.generate_graph(node.right, dot)\n",
        "\n",
        "        return dot\n",
        "\n",
        "# Ejemplo de uso\n",
        "if __name__ == \"__main__\":\n",
        "    tree = AVLTree()\n",
        "    root = None\n",
        "    for value in [10, 8, 14, 9, 15, 3, 18]:\n",
        "        root = tree.insert(root, value)\n",
        "\n",
        "    # Generar el gráfico y guardarlo como PNG\n",
        "    dot = tree.generate_graph(root)\n",
        "    dot.render(\"arbol_avl\", format=\"png\", cleanup=True)  # Cambia a False si deseas conservar el archivo .dot\n",
        "\n",
        "    # Mostrar la imagen (si estás en un entorno que lo permita)\n",
        "    from IPython.display import Image\n",
        "    display(Image(filename='arbol_avl.png'))\n"
      ]
    }
  ]
}
