{
  "nbformat": 4,
  "nbformat_minor": 0,
  "metadata": {
    "colab": {
      "provenance": [],
      "authorship_tag": "ABX9TyMWzzTaOteki8ihHXN99pCk",
      "include_colab_link": true
    },
    "kernelspec": {
      "name": "python3",
      "display_name": "Python 3"
    },
    "language_info": {
      "name": "python"
    }
  },
  "cells": [
    {
      "cell_type": "markdown",
      "metadata": {
        "id": "view-in-github",
        "colab_type": "text"
      },
      "source": [
        "<a href=\"https://colab.research.google.com/github/Jaysons-s/DataSctructures/blob/main/QuickSort.ipynb\" target=\"_parent\"><img src=\"https://colab.research.google.com/assets/colab-badge.svg\" alt=\"Open In Colab\"/></a>"
      ]
    },
    {
      "cell_type": "code",
      "execution_count": 4,
      "metadata": {
        "colab": {
          "base_uri": "https://localhost:8080/"
        },
        "id": "B4WehcQ-BHu4",
        "outputId": "259c1f9a-1183-44e8-a38a-377708b57966"
      },
      "outputs": [
        {
          "output_type": "stream",
          "name": "stdout",
          "text": [
            "¿Cuántos números aleatorios deseas ordenar? 10\n",
            "\n",
            "Lista original: [76, 69, 91, 5, 8, 30, 22, 67, 83, 87]\n",
            "\n",
            "Partición: [76, 69, 91, 5, 8, 30, 22, 67, 83, 87] con pivote 76\n",
            "Menores que 76: [69, 5, 8, 30, 22, 67]\n",
            "Mayores que 76: [91, 83, 87]\n",
            "\n",
            "  Partición: [69, 5, 8, 30, 22, 67] con pivote 69\n",
            "  Menores que 69: [5, 8, 30, 22, 67]\n",
            "  Mayores que 69: []\n",
            "\n",
            "    Partición: [5, 8, 30, 22, 67] con pivote 5\n",
            "    Menores que 5: []\n",
            "    Mayores que 5: [8, 30, 22, 67]\n",
            "\n",
            "      Partición: [8, 30, 22, 67] con pivote 8\n",
            "      Menores que 8: []\n",
            "      Mayores que 8: [30, 22, 67]\n",
            "\n",
            "        Partición: [30, 22, 67] con pivote 30\n",
            "        Menores que 30: [22]\n",
            "        Mayores que 30: [67]\n",
            "        Combinado: [22, 30, 67]\n",
            "      Combinado: [8, 22, 30, 67]\n",
            "    Combinado: [5, 8, 22, 30, 67]\n",
            "  Combinado: [5, 8, 22, 30, 67, 69]\n",
            "\n",
            "  Partición: [91, 83, 87] con pivote 91\n",
            "  Menores que 91: [83, 87]\n",
            "  Mayores que 91: []\n",
            "\n",
            "    Partición: [83, 87] con pivote 83\n",
            "    Menores que 83: []\n",
            "    Mayores que 83: [87]\n",
            "    Combinado: [83, 87]\n",
            "  Combinado: [83, 87, 91]\n",
            "Combinado: [5, 8, 22, 30, 67, 69, 76, 83, 87, 91]\n",
            "\n",
            "Lista ordenada: [5, 8, 22, 30, 67, 69, 76, 83, 87, 91]\n"
          ]
        }
      ],
      "source": [
        "import random\n",
        "\n",
        "def quicksort(arr, depth=0):\n",
        "    # Caso base: si la lista tiene 0 o 1 elementos, ya está ordenada\n",
        "    if len(arr) <= 1:\n",
        "        return arr\n",
        "    else:\n",
        "        # Elegimos el pivote (por ejemplo, el primer elemento)\n",
        "        pivot = arr[0]\n",
        "\n",
        "        # Partimos la lista en dos sublistas:\n",
        "        # - los elementos menores que el pivote\n",
        "        # - los elementos mayores que el pivote\n",
        "        less_than_pivot = [x for x in arr[1:] if x <= pivot]\n",
        "        greater_than_pivot = [x for x in arr[1:] if x > pivot]\n",
        "\n",
        "        # Mostrar el estado actual de la lista y las particiones\n",
        "        print(f\"\\n{'  ' * depth}Partición: {arr} con pivote {pivot}\")\n",
        "        print(f\"{'  ' * depth}Menores que {pivot}: {less_than_pivot}\")\n",
        "        print(f\"{'  ' * depth}Mayores que {pivot}: {greater_than_pivot}\")\n",
        "\n",
        "        # Recursivamente ordenamos las sublistas y combinamos\n",
        "        sorted_less = quicksort(less_than_pivot, depth + 1)\n",
        "        sorted_greater = quicksort(greater_than_pivot, depth + 1)\n",
        "\n",
        "        # Mostrar el resultado combinado de esta llamada recursiva\n",
        "        result = sorted_less + [pivot] + sorted_greater\n",
        "        print(f\"{'  ' * depth}Combinado: {result}\")\n",
        "\n",
        "        return result\n",
        "\n",
        "# Función principal\n",
        "def main():\n",
        "    # Pedir al usuario la cantidad de números a generar\n",
        "    num_elements = int(input(\"¿Cuántos números aleatorios deseas ordenar? \"))\n",
        "\n",
        "    # Generar una lista de números aleatorios\n",
        "    arr = [random.randint(1, 100) for _ in range(num_elements)]\n",
        "\n",
        "    print(\"\\nLista original:\", arr)\n",
        "\n",
        "    # Ordenar la lista usando quicksort\n",
        "    sorted_arr = quicksort(arr)\n",
        "\n",
        "    print(\"\\nLista ordenada:\", sorted_arr)\n",
        "\n",
        "# Ejecutar el programa\n",
        "if __name__ == \"__main__\":\n",
        "    main()\n"
      ]
    }
  ]
}